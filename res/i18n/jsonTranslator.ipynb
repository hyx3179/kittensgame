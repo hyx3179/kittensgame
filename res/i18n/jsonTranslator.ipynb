{
 "cells": [
  {
   "cell_type": "code",
   "execution_count": null,
   "metadata": {},
   "outputs": [],
   "source": [
    "import json, time\n",
    "from tqdm import tqdm\n",
    "from deep_translator import GoogleTranslator\n",
    "\n",
    "# 读取 JSON 文件\n",
    "with open(\"en.json\", \"r\", encoding=\"utf-8\") as file:\n",
    "    data = json.load(file)\n",
    "\n",
    "with open(\".\\\\crowdin\\\\zh.json\", \"r\", encoding=\"utf-8\") as file:\n",
    "    data_zh = json.load(file)\n",
    "\n",
    "translated_data = {}\n",
    "translator = GoogleTranslator(source=\"en\", target=\"zh-CN\")\n",
    "\n",
    "# 翻译 JSON 字符串\n",
    "for key, value in tqdm(data.items()):\n",
    "    # 翻译英文字符串为中文\n",
    "    if isinstance(value, str) and key not in data_zh:\n",
    "        translated_data[key + \"_en\"] = value\n",
    "        for i in range(10):\n",
    "            try:\n",
    "                translated_data[key] = translator.translate(value)\n",
    "                break\n",
    "            except:\n",
    "                if i == 9:\n",
    "                    print(key)\n",
    "                else:\n",
    "                    time.sleep(2)\n",
    "                    continue"
   ]
  },
  {
   "cell_type": "code",
   "execution_count": null,
   "metadata": {},
   "outputs": [],
   "source": [
    "# 保存翻译后的 JSON 文件\n",
    "with open(\".\\\\zh.json\", \"w\", encoding=\"utf-8\") as file:\n",
    "    json.dump(translated_data, file, ensure_ascii=False, indent=4)\n",
    "    print(\"done\")"
   ]
  }
 ],
 "metadata": {
  "kernelspec": {
   "display_name": "Python 3",
   "language": "python",
   "name": "python3"
  },
  "language_info": {
   "codemirror_mode": {
    "name": "ipython",
    "version": 3
   },
   "file_extension": ".py",
   "mimetype": "text/x-python",
   "name": "python",
   "nbconvert_exporter": "python",
   "pygments_lexer": "ipython3",
   "version": "3.13.0"
  }
 },
 "nbformat": 4,
 "nbformat_minor": 2
}
